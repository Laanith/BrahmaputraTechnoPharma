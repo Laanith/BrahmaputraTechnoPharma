{
 "cells": [
  {
   "cell_type": "code",
   "execution_count": 1,
   "metadata": {},
   "outputs": [
    {
     "name": "stdout",
     "output_type": "stream",
     "text": [
      "Converted achievements.jpg to achievements.webp\n",
      "Skipping achievements.webp, already in webp format\n",
      "Converted activatedCarbonImage.jpg to activatedCarbonImage.webp\n",
      "Skipping activatedCarbonImage.webp, already in webp format\n",
      "Converted anthocyanin.jpeg to anthocyanin.webp\n",
      "Skipping anthocyanin.webp, already in webp format\n",
      "Converted bioCrudeOil.jpg to bioCrudeOil.webp\n",
      "Skipping bioCrudeOil.webp, already in webp format\n",
      "Converted Bioengineering.jpg to Bioengineering.webp\n",
      "Skipping Bioengineering.webp, already in webp format\n",
      "Converted charcoal.jpg to charcoal.webp\n",
      "Skipping charcoal.webp, already in webp format\n",
      "Converted company-logo.jpg to company-logo.webp\n",
      "Skipping company-logo.webp, already in webp format\n",
      "Converted decaffeination.jpg to decaffeination.webp\n",
      "Skipping decaffeination.webp, already in webp format\n",
      "Converted greenTea.jpg to greenTea.webp\n",
      "Skipping greenTea.webp, already in webp format\n",
      "Converted handshake.jpg to handshake.webp\n",
      "Skipping handshake.webp, already in webp format\n",
      "Converted herbals.jpeg to herbals.webp\n",
      "Skipping herbals.webp, already in webp format\n",
      "Converted miles-image.jpg to miles-image.webp\n",
      "Skipping miles-image.webp, already in webp format\n",
      "Converted nutraceuticals.jpeg to nutraceuticals.webp\n",
      "Skipping nutraceuticals.webp, already in webp format\n",
      "Converted pharmaceuticals.jpg to pharmaceuticals.webp\n",
      "Skipping pharmaceuticals.webp, already in webp format\n",
      "Converted plant-carbon-removebg.png to plant-carbon-removebg.webp\n",
      "Skipping plant-carbon-removebg.webp, already in webp format\n",
      "Converted plant-carbon.png to plant-carbon.webp\n",
      "Skipping plant-carbon.webp, already in webp format\n",
      "Skipping productProfiles.webp, already in webp format\n",
      "Skipping products.webp, already in webp format\n",
      "Converted Purple_Broccoli_at_the_Green_City_Market.jpg to Purple_Broccoli_at_the_Green_City_Market.webp\n",
      "Skipping Purple_Broccoli_at_the_Green_City_Market.webp, already in webp format\n",
      "Converted skinCare.jpg to skinCare.webp\n",
      "Skipping skinCare.webp, already in webp format\n",
      "Converted solidDosageForm.jpg to solidDosageForm.webp\n",
      "Skipping solidDosageForm.webp, already in webp format\n",
      "Converted story.jpg to story.webp\n",
      "Skipping story.webp, already in webp format\n",
      "Converted team.jpg to team.webp\n",
      "Skipping team.webp, already in webp format\n",
      "Converted teamwork.jpg to teamwork.webp\n",
      "Skipping teamwork.webp, already in webp format\n",
      "Converted toiletries.jpg to toiletries.webp\n",
      "Skipping toiletries.webp, already in webp format\n",
      "Converted veganButter.jpg to veganButter.webp\n",
      "Skipping veganButter.webp, already in webp format\n"
     ]
    }
   ],
   "source": [
    "import os\n",
    "from PIL import Image\n",
    "\n",
    "def convert_images_to_webp(directory):\n",
    "    # Supported input formats\n",
    "    input_formats = ('.png', '.jpg', '.jpeg')\n",
    "    \n",
    "    # Iterate through all files in the directory\n",
    "    for filename in os.listdir(directory):\n",
    "        # Check if the file has an acceptable extension\n",
    "        if filename.lower().endswith(input_formats):\n",
    "            filepath = os.path.join(directory, filename)\n",
    "            # Open an image file\n",
    "            with Image.open(filepath) as img:\n",
    "                # Remove the original extension and add .webp\n",
    "                new_filename = os.path.splitext(filename)[0] + '.webp'\n",
    "                new_filepath = os.path.join(directory, new_filename)\n",
    "                # Convert and save the image in webp format\n",
    "                img.save(new_filepath, 'webp')\n",
    "                print(f\"Converted {filename} to {new_filename}\")\n",
    "        elif filename.lower().endswith('.webp'):\n",
    "            print(f\"Skipping {filename}, already in webp format\")\n",
    "\n",
    "# Example usage\n",
    "directory = './'\n",
    "convert_images_to_webp(directory)\n"
   ]
  },
  {
   "cell_type": "code",
   "execution_count": null,
   "metadata": {},
   "outputs": [],
   "source": []
  }
 ],
 "metadata": {
  "kernelspec": {
   "display_name": "Python 3",
   "language": "python",
   "name": "python3"
  },
  "language_info": {
   "codemirror_mode": {
    "name": "ipython",
    "version": 3
   },
   "file_extension": ".py",
   "mimetype": "text/x-python",
   "name": "python",
   "nbconvert_exporter": "python",
   "pygments_lexer": "ipython3",
   "version": "3.11.9"
  }
 },
 "nbformat": 4,
 "nbformat_minor": 2
}
