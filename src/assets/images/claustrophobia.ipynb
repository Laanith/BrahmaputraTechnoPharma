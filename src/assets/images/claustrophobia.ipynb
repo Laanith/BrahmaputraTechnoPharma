{
 "cells": [
  {
   "cell_type": "code",
   "execution_count": 1,
   "metadata": {},
   "outputs": [
    {
     "name": "stdout",
     "output_type": "stream",
     "text": [
      "Converted achievements.jpg to achievements.webp\n",
      "Converted Bioengineering.jpg to Bioengineering.webp\n",
      "Converted handshake.jpg to handshake.webp\n",
      "Converted miles-image.jpg to miles-image.webp\n",
      "Converted plant-carbon-removebg.png to plant-carbon-removebg.webp\n",
      "Converted plant-carbon.png to plant-carbon.webp\n",
      "Skipping productProfiles.webp, already in webp format\n",
      "Skipping products.webp, already in webp format\n",
      "Converted story.jpg to story.webp\n",
      "Converted team.jpg to team.webp\n",
      "Converted teamwork.jpg to teamwork.webp\n"
     ]
    }
   ],
   "source": [
    "import os\n",
    "from PIL import Image\n",
    "\n",
    "def convert_images_to_webp(directory):\n",
    "    # Supported input formats\n",
    "    input_formats = ('.png', '.jpg', '.jpeg')\n",
    "    \n",
    "    # Iterate through all files in the directory\n",
    "    for filename in os.listdir(directory):\n",
    "        # Check if the file has an acceptable extension\n",
    "        if filename.lower().endswith(input_formats):\n",
    "            filepath = os.path.join(directory, filename)\n",
    "            # Open an image file\n",
    "            with Image.open(filepath) as img:\n",
    "                # Remove the original extension and add .webp\n",
    "                new_filename = os.path.splitext(filename)[0] + '.webp'\n",
    "                new_filepath = os.path.join(directory, new_filename)\n",
    "                # Convert and save the image in webp format\n",
    "                img.save(new_filepath, 'webp')\n",
    "                print(f\"Converted {filename} to {new_filename}\")\n",
    "        elif filename.lower().endswith('.webp'):\n",
    "            print(f\"Skipping {filename}, already in webp format\")\n",
    "\n",
    "# Example usage\n",
    "directory = './'\n",
    "convert_images_to_webp(directory)\n"
   ]
  },
  {
   "cell_type": "code",
   "execution_count": null,
   "metadata": {},
   "outputs": [],
   "source": []
  }
 ],
 "metadata": {
  "kernelspec": {
   "display_name": "Python 3",
   "language": "python",
   "name": "python3"
  },
  "language_info": {
   "codemirror_mode": {
    "name": "ipython",
    "version": 3
   },
   "file_extension": ".py",
   "mimetype": "text/x-python",
   "name": "python",
   "nbconvert_exporter": "python",
   "pygments_lexer": "ipython3",
   "version": "3.11.9"
  }
 },
 "nbformat": 4,
 "nbformat_minor": 2
}
